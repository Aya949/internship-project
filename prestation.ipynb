{
 "cells": [
  {
   "cell_type": "markdown",
   "id": "9685447e",
   "metadata": {},
   "source": [
    "**Data prep Notebook**"
   ]
  },
  {
   "cell_type": "markdown",
   "id": "2df434a4",
   "metadata": {},
   "source": [
    "load data"
   ]
  },
  {
   "cell_type": "code",
   "execution_count": 7,
   "id": "8ec1d769",
   "metadata": {},
   "outputs": [],
   "source": [
    "import pandas as pd\n",
    "xls = pd.ExcelFile(\"C:/Users/hp/Documents/Python_projects/internship project/ExtractionStagiaire 11.07.2025.xlsx\")\n",
    "sheet_names = xls.sheet_names\n",
    "\n",
    "ADHERENT = xls.parse(\"ADHERENT\")\n",
    "AIDE_FRONTALE = xls.parse(\"AIDE_FRONTALE\") \n",
    "AMC_PRESTATION = xls.parse(\"AMC_PRESTATIONS2011\")\n",
    "AMC_SINISTRES = xls.parse(\"AMC_SINISTRES2011\")\n",
    "ATS_2024 = xls.parse(\"ATS_2024\")\n",
    "Bourse = xls.parse(\"Bourse\")\n",
    "DATA_Zephyr = xls.parse(\"DATA__Zephyr_2021\")\n",
    "Estivage = xls.parse(\"Estivage\")\n",
    "FDS = xls.parse(\"FDS\")\n",
    "Nafida_INTERNET = xls.parse(\"Nafida_INTERNET\")\n",
    "Nafida_PC = xls.parse(\"Nafida_PC\")\n",
    "PELERINAGE = xls.parse(\"PELERINAGE\")\n",
    "PR_ONCF_TRAFIC = xls.parse(\"PR_ONCF_TRAFIC\")\n",
    "PR_SUPRATOURS_TRAFIC = xls.parse(\"PR_SUPRATOURS_TRAFIC\")\n",
    "PRESCOLAIRE = xls.parse(\"PRESCOLAIRE\")\n",
    "PROJET_PILOTE = xls.parse(\"PROJET_PILOTE\")\n",
    "YASSIR = xls.parse(\"YASSIR\")\n",
    "\n"
   ]
  },
  {
   "cell_type": "code",
   "execution_count": null,
   "id": "b8d0afae",
   "metadata": {},
   "outputs": [],
   "source": [
    "bourse = bourse.drop_duplicates()\n",
    "bourse[\"Montant\"] = bourse[\"Montant\"].fillna(bourse[\"Montant\"].median())\n",
    "bourse[\"Statut\"] = bourse[\"Statut\"].fillna(\"Inconnu\")\n",
    "bourse[\"Date\"] = pd.to_datetime(bourse[\"Date\"], errors=\"coerce\")\n",
    "bourse = bourse.dropna(subset=[\"CIN\"])"
   ]
  },
  {
   "cell_type": "markdown",
   "id": "8d2a5571",
   "metadata": {},
   "source": [
    "Define alias for standardization "
   ]
  },
  {
   "cell_type": "code",
   "execution_count": null,
   "id": "521a2555",
   "metadata": {},
   "outputs": [],
   "source": []
  },
  {
   "cell_type": "code",
   "execution_count": 32,
   "id": "d28e7eb1",
   "metadata": {},
   "outputs": [],
   "source": [
    "cin_alias = ['CIN', 'CIN_BOURSIER']\n",
    "date_alias = [\"Date d'arrivée\", \"Date\", \"DateAccord\", \"Date de création\", \"date_comande\", \"DateCreation\" ]\n",
    "montant_alias = [\"Montant\", \"Montant_Gere\", \"montant_crédit\"]\n",
    "status_alias = ['Statut_gestion', 'Statut paiment', 'LL_STATUT', 'STATUT']\n",
    "Adherent_alias = ['NumeroAdherent', 'Num_Adherent_Adherent', 'N°_Adherent_Adherent', 'Num_Adherent', 'NUM_ADHERENT']\n"
   ]
  },
  {
   "cell_type": "markdown",
   "id": "4cf31273",
   "metadata": {},
   "source": [
    "Container for cleaned data "
   ]
  },
  {
   "cell_type": "code",
   "execution_count": null,
   "id": "fe5c47cc",
   "metadata": {},
   "outputs": [
    {
     "name": "stdout",
     "output_type": "stream",
     "text": [
      "    Num Adherent  CIN   Montant Type prestation    Statut        Date\n",
      "180   291925/000  ---  74581.82          YASSIR  Débloqué  2024-05-16\n",
      "181   408887/000  ---  74581.82          YASSIR   Demandé  2025-06-06\n",
      "182   215500/000  ---  74581.82          YASSIR  Débloqué  2022-10-17\n",
      "183   518983/000  ---  74581.82          YASSIR  Débloqué  2024-06-25\n",
      "184   389634/000  ---  74581.82          YASSIR  Débloqué  2023-07-18\n",
      "185   547694/000  ---  74581.82          YASSIR  Débloqué  2023-05-10\n",
      "186    99345/000  ---  74581.82          YASSIR  Débloqué  2025-04-23\n",
      "187   425584/000  ---  74581.82          YASSIR  Débloqué  2024-12-13\n",
      "188   539215/000  ---  74581.82          YASSIR  Débloqué  2024-04-17\n",
      "189   346596/000  ---  74581.82          YASSIR  Débloqué  2023-12-18\n"
     ]
    }
   ],
   "source": [
    "standardized_table = []\n",
    "\n",
    "for name in sheet_names :\n",
    "    if name == \"ADHERENT\" :\n",
    "        continue\n",
    "    df = xls.parse(name)\n",
    "    df_copy = df.copy()\n",
    "    \n",
    "    #Adhrent\n",
    "    for alias in Adherent_alias :\n",
    "        if alias in df_copy.columns :\n",
    "            df_copy = df_copy.rename(columns={alias: 'Num Adherent'})\n",
    "            break\n",
    "    #rename CIN \n",
    "    for alias in cin_alias :\n",
    "        if alias in df_copy.columns :\n",
    "            df_copy = df_copy.rename(columns={alias: 'CIN'})\n",
    "            break\n",
    "    #rename date\n",
    "    for alias in date_alias :\n",
    "        if alias in df_copy.columns :\n",
    "            df_copy = df_copy.rename(columns={alias: 'Date'})\n",
    "            break\n",
    "    #rename montant\n",
    "    for alias in montant_alias :\n",
    "        if alias in df_copy.columns :\n",
    "            df_copy = df_copy.rename(columns={alias: 'Montant'})\n",
    "            break\n",
    "    #rename status\n",
    "    for alias in status_alias :\n",
    "        if alias in df_copy.columns :\n",
    "            df_copy = df_copy.rename(columns={alias: 'Statut'})\n",
    "            break\n",
    "        \n",
    "    cols_to_keep = ['Num Adherent', 'CIN', 'Date', 'Montant', 'Statut']\n",
    "    available_cols = [col for col in cols_to_keep if col in df_copy.columns]\n",
    "    df_clean = df_copy[available_cols].copy()\n",
    "\n",
    "    df_clean['Type prestation'] = name\n",
    "    \n",
    "    standardized_table.append(df_clean)\n",
    "    \n",
    "    \n",
    "merged_df = pd.concat(standardized_table, ignore_index=True)\n",
    "mean = round(merged_df['Montant'].mean(), 2)\n",
    "merged_df['Montant'] = merged_df['Montant'].fillna(mean)\n",
    "merged_df['Num Adherent'] = merged_df['Num Adherent'].fillna('---')\n",
    "merged_df['CIN'] = merged_df['CIN'].fillna('---')\n",
    "merged_df['Statut'] = merged_df['Statut'].fillna('---')\n",
    "merged_df['Date'] = pd.to_datetime(merged_df['Date'], errors='coerce')\n",
    "merged_df['Date'] = merged_df['Date'].fillna(merged_df['Date'].min())\n",
    "merged_df['Date'] = merged_df['Date'].dt.date\n",
    "print(merged_df.tail(10))"
   ]
  },
  {
   "cell_type": "markdown",
   "id": "a10aff56",
   "metadata": {},
   "source": [
    "save to CSV "
   ]
  },
  {
   "cell_type": "code",
   "execution_count": 42,
   "id": "ce5cf9dd",
   "metadata": {},
   "outputs": [],
   "source": [
    "merged_df.to_excel('merged_tables.xlsx', index=False)"
   ]
  }
 ],
 "metadata": {
  "kernelspec": {
   "display_name": "base",
   "language": "python",
   "name": "python3"
  },
  "language_info": {
   "codemirror_mode": {
    "name": "ipython",
    "version": 3
   },
   "file_extension": ".py",
   "mimetype": "text/x-python",
   "name": "python",
   "nbconvert_exporter": "python",
   "pygments_lexer": "ipython3",
   "version": "3.9.13"
  }
 },
 "nbformat": 4,
 "nbformat_minor": 5
}
